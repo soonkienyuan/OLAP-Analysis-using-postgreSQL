{
 "cells": [
  {
   "cell_type": "markdown",
   "id": "5f97292a",
   "metadata": {},
   "source": [
    "## APPENDIX 3"
   ]
  },
  {
   "cell_type": "code",
   "execution_count": 1,
   "id": "31616fb7",
   "metadata": {},
   "outputs": [],
   "source": [
    "import sqlite3\n",
    "import pandas as pd\n",
    "rel_pth = \"C:\\\\Users\\\\soon kien yuan\\\\Desktop\\\\ump\\\\sem 4\\\\data warehousing\\\\project\\\\basket\"\n",
    "conn = sqlite3.connect(rel_pth+'\\\\basketball.sqlite')\n"
   ]
  },
  {
   "cell_type": "code",
   "execution_count": 2,
   "id": "e3209881",
   "metadata": {},
   "outputs": [
    {
     "name": "stdout",
     "output_type": "stream",
     "text": [
      "[('Player',), ('Team',), ('Team_Attributes',), ('Team_History',), ('Player_Attributes',), ('Game_Officials',), ('Game_Inactive_Players',), ('Team_Salary',), ('Player_Salary',), ('Draft',), ('Draft_Combine',), ('Player_Photos',), ('Player_Bios',), ('Game',), ('News',), ('News_Missing',)]\n"
     ]
    }
   ],
   "source": [
    "\n",
    "cursor = conn.cursor()\n",
    "cursor.execute(\"SELECT name FROM sqlite_master WHERE type='table';\")\n",
    "\n",
    "x=cursor.fetchall()\n",
    "print(x)"
   ]
  },
  {
   "cell_type": "code",
   "execution_count": 3,
   "id": "a187a03c",
   "metadata": {},
   "outputs": [],
   "source": [
    "table_name=['Player', 'Team','Team_Attributes', 'Team_History', 'Player_Attributes',\n",
    "            'Game_Officials', 'Game_Inactive_Players','Team_Salary', 'Player_Salary',\n",
    "            'Draft', 'Draft_Combine', 'Player_Photos', 'Player_Bios', 'Game','News',\n",
    "            'News_Missing']"
   ]
  },
  {
   "cell_type": "code",
   "execution_count": 4,
   "id": "8c9a0fbe",
   "metadata": {},
   "outputs": [],
   "source": [
    "# loading dfs to psql\n",
    "from sqlalchemy import create_engine\n",
    "\n",
    "psql_usr_nm = 'postgres'\n",
    "psswrd = 'humanright'\n",
    "host_nm = 'localhost'\n",
    "db_nm = 'basket_database'\n",
    "\n",
    "engine = create_engine(f'postgresql://postgres:{psswrd}@{host_nm}:5432/{db_nm}')\n",
    "\n"
   ]
  },
  {
   "cell_type": "code",
   "execution_count": 5,
   "id": "72ade019",
   "metadata": {},
   "outputs": [
    {
     "name": "stdout",
     "output_type": "stream",
     "text": [
      "Player\n",
      "Team\n",
      "Team_Attributes\n",
      "Team_History\n",
      "Player_Attributes\n",
      "Game_Officials\n",
      "Game_Inactive_Players\n",
      "Team_Salary\n",
      "Player_Salary\n",
      "Draft\n",
      "Draft_Combine\n",
      "Player_Photos\n",
      "Player_Bios\n",
      "Game\n",
      "News\n",
      "News_Missing\n"
     ]
    }
   ],
   "source": [
    "for x in table_name:\n",
    "    df = pd.read_sql_query(f\"SELECT * FROM {x}\", conn)\n",
    "    df.to_sql(x, engine, if_exists='replace')\n",
    "    print(x)"
   ]
  },
  {
   "cell_type": "code",
   "execution_count": 6,
   "id": "366ec6b1",
   "metadata": {},
   "outputs": [],
   "source": [
    "cursor.close()\n",
    "conn.close()"
   ]
  },
  {
   "cell_type": "code",
   "execution_count": null,
   "id": "2a94204a",
   "metadata": {},
   "outputs": [],
   "source": []
  }
 ],
 "metadata": {
  "kernelspec": {
   "display_name": "Python 3 (ipykernel)",
   "language": "python",
   "name": "python3"
  },
  "language_info": {
   "codemirror_mode": {
    "name": "ipython",
    "version": 3
   },
   "file_extension": ".py",
   "mimetype": "text/x-python",
   "name": "python",
   "nbconvert_exporter": "python",
   "pygments_lexer": "ipython3",
   "version": "3.9.7"
  }
 },
 "nbformat": 4,
 "nbformat_minor": 5
}
