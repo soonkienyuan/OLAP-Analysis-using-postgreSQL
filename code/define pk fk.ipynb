{
 "cells": [
  {
   "cell_type": "markdown",
   "id": "a06744d8",
   "metadata": {},
   "source": [
    "## APPENDIX 6\n",
    "\n",
    "Thisis the example of coding for alter table primary key, while foreign key is created on demand in PostgreSQL"
   ]
  },
  {
   "cell_type": "code",
   "execution_count": 3,
   "id": "0500e882",
   "metadata": {},
   "outputs": [],
   "source": [
    "db = 'basket_db'\n",
    "usr = 'postgres'\n",
    "psswrd='humanright'"
   ]
  },
  {
   "cell_type": "code",
   "execution_count": 4,
   "id": "7d45b346",
   "metadata": {},
   "outputs": [],
   "source": [
    "# connect to database\n",
    "import psycopg2\n",
    "conn = psycopg2.connect(database = db, user=usr, password=psswrd)\n",
    "cur = conn.cursor()"
   ]
  },
  {
   "cell_type": "code",
   "execution_count": 1,
   "id": "2f029d7a",
   "metadata": {},
   "outputs": [],
   "source": [
    "# create list for pk, constrain, table\n",
    "table_pk=[]\n",
    "\n",
    "table_name=[\"Draft\",\"Draft_Combine\",\"Game\",\"Game_Inactive_Players\",\n",
    "           \"Game_Officials\",\"Player\",\"Player_Attributes\",\n",
    "           \"Player_Salary\",\"Team\",\"Team_Attributes\",\n",
    "            \"Team_Salary\"]\n",
    "quoting = lambda nm: f'\"{nm}\"'\n",
    "unquoting = lambda nm: nm[1:-1]\n",
    "table_name = [quoting(nm) for nm in table_name]\n",
    "\n",
    "\n",
    "for x in table_name:\n",
    "    x = unquoting(x)\n",
    "    x = x.lower()\n",
    "    gg=x +\"_pk\"\n",
    "    table_pk.append(gg)\n",
    "#table_pk is primary key constraint name\n",
    "\n",
    "pk=[\"idPlayer,yearDraft\",\"idPlayer\",\"GAME_ID,SEASON_ID,TEAM_ID_HOME\",\"PLAYER_ID,GAME_ID\",\n",
    "    \"OFFICIAL_ID,GAME_ID\",\"id\",\"ID\",\n",
    "    \"slugSeason,namePlayer\",\"id\",\"ID\",\n",
    "    \"nameTeam\"]\n",
    "\n",
    "pk = [quoting(nm) for nm in pk]"
   ]
  },
  {
   "cell_type": "code",
   "execution_count": 2,
   "id": "928ed858",
   "metadata": {},
   "outputs": [
    {
     "name": "stdout",
     "output_type": "stream",
     "text": [
      "[{'pk': '\"idPlayer,yearDraft\"',\n",
      "  'table_name': '\"Draft\"',\n",
      "  'table_pk': 'draft_pk'},\n",
      " {'pk': '\"idPlayer\"',\n",
      "  'table_name': '\"Draft_Combine\"',\n",
      "  'table_pk': 'draft_combine_pk'},\n",
      " {'pk': '\"GAME_ID,SEASON_ID,TEAM_ID_HOME\"',\n",
      "  'table_name': '\"Game\"',\n",
      "  'table_pk': 'game_pk'},\n",
      " {'pk': '\"PLAYER_ID,GAME_ID\"',\n",
      "  'table_name': '\"Game_Inactive_Players\"',\n",
      "  'table_pk': 'game_inactive_players_pk'},\n",
      " {'pk': '\"OFFICIAL_ID,GAME_ID\"',\n",
      "  'table_name': '\"Game_Officials\"',\n",
      "  'table_pk': 'game_officials_pk'},\n",
      " {'pk': '\"id\"', 'table_name': '\"Player\"', 'table_pk': 'player_pk'},\n",
      " {'pk': '\"ID\"',\n",
      "  'table_name': '\"Player_Attributes\"',\n",
      "  'table_pk': 'player_attributes_pk'},\n",
      " {'pk': '\"slugSeason,namePlayer\"',\n",
      "  'table_name': '\"Player_Salary\"',\n",
      "  'table_pk': 'player_salary_pk'},\n",
      " {'pk': '\"id\"', 'table_name': '\"Team\"', 'table_pk': 'team_pk'},\n",
      " {'pk': '\"ID\"',\n",
      "  'table_name': '\"Team_Attributes\"',\n",
      "  'table_pk': 'team_attributes_pk'},\n",
      " {'pk': '\"nameTeam\"',\n",
      "  'table_name': '\"Team_Salary\"',\n",
      "  'table_pk': 'team_salary_pk'}]\n"
     ]
    }
   ],
   "source": [
    "import pprint\n",
    "list = [{\"table_name\":table_name[i],\n",
    "               \"table_pk\": table_pk[i],\n",
    "               \"pk\": pk[i]} for i in range(len(table_pk))]\n",
    "pprint.pprint(list)"
   ]
  },
  {
   "cell_type": "code",
   "execution_count": 94,
   "id": "377d6ef9",
   "metadata": {},
   "outputs": [
    {
     "name": "stdout",
     "output_type": "stream",
     "text": [
      "\n",
      "    ALTER TABLE \"Draft\"\n",
      "    ADD CONSTRAINT draft_pk\n",
      "    PRIMARY KEY (\"idPlayer,yearDraft\");\n",
      "    \n",
      "    ALTER TABLE \"Draft_Combine\"\n",
      "    ADD CONSTRAINT draft_combine_pk\n",
      "    PRIMARY KEY (\"idPlayer\");\n",
      "    \n",
      "    ALTER TABLE \"Game\"\n",
      "    ADD CONSTRAINT game_pk\n",
      "    PRIMARY KEY (\"GAME_ID,SEASON_ID,TEAM_ID_HOME\");\n",
      "    \n",
      "    ALTER TABLE \"Game_Inactive_Players\"\n",
      "    ADD CONSTRAINT game_inactive_players_pk\n",
      "    PRIMARY KEY (\"PLAYER_ID,GAME_ID\");\n",
      "    \n",
      "    ALTER TABLE \"Game_Officials\"\n",
      "    ADD CONSTRAINT game_officials_pk\n",
      "    PRIMARY KEY (\"OFFICIAL_ID,GAME_ID\");\n",
      "    \n",
      "    ALTER TABLE \"Player\"\n",
      "    ADD CONSTRAINT player_pk\n",
      "    PRIMARY KEY (\"id\");\n",
      "    \n",
      "    ALTER TABLE \"Player_Attributes\"\n",
      "    ADD CONSTRAINT player_attributes_pk\n",
      "    PRIMARY KEY (\"ID\");\n",
      "    \n",
      "    ALTER TABLE \"Player_Salary\"\n",
      "    ADD CONSTRAINT player_salary_pk\n",
      "    PRIMARY KEY (\"slugSeason,namePlayer\");\n",
      "    \n",
      "    ALTER TABLE \"Team\"\n",
      "    ADD CONSTRAINT team_pk\n",
      "    PRIMARY KEY (\"id\");\n",
      "    \n",
      "    ALTER TABLE \"Team_Attributes\"\n",
      "    ADD CONSTRAINT team_attributes_pk\n",
      "    PRIMARY KEY (\"ID\");\n",
      "    \n",
      "    ALTER TABLE \"Team_Salary\"\n",
      "    ADD CONSTRAINT team_salary_pk\n",
      "    PRIMARY KEY (\"nameTeam\");\n",
      "    \n"
     ]
    }
   ],
   "source": [
    "x=\"\"\n",
    "for inst in list:\n",
    "    qtext=f\"\"\"\n",
    "    ALTER TABLE {inst[\"table_name\"]}\n",
    "    ADD CONSTRAINT {inst[\"table_pk\"]}\n",
    "    PRIMARY KEY ({inst[\"pk\"]});\n",
    "    \"\"\"\n",
    "    x += qtext\n",
    "print(x)"
   ]
  },
  {
   "cell_type": "code",
   "execution_count": 81,
   "id": "6a5904cb",
   "metadata": {},
   "outputs": [
    {
     "data": {
      "text/plain": [
       "'\\n    ALTER TABLE \"Draft\"\\n    ADD CONSTRAINT draft_pk\\n    PRIMARY KEY (\"idPlayer,yearDraft\");\\n    \\n    ALTER TABLE \"Draft_Combine\"\\n    ADD CONSTRAINT draft_combine_pk\\n    PRIMARY KEY (\"idPlayer\");\\n    \\n    ALTER TABLE \"Game\"\\n    ADD CONSTRAINT game_pk\\n    PRIMARY KEY (\"GAME_ID,SEASON_ID,TEAM_ID_HOME\");\\n    \\n    ALTER TABLE \"Game_Inactive_Players\"\\n    ADD CONSTRAINT game_inactive_players_pk\\n    PRIMARY KEY (\"PLAYER_ID,GAME_ID\");\\n    \\n    ALTER TABLE \"Game_Officials\"\\n    ADD CONSTRAINT game_officials_pk\\n    PRIMARY KEY (\"OFFICIAL_ID,GAME_ID\");\\n    \\n    ALTER TABLE \"Player\"\\n    ADD CONSTRAINT player_pk\\n    PRIMARY KEY (\"id\");\\n    \\n    ALTER TABLE \"Player_Attributes\"\\n    ADD CONSTRAINT player_attributes_pk\\n    PRIMARY KEY (\"ID\");\\n    \\n    ALTER TABLE \"Player_Salary\"\\n    ADD CONSTRAINT player_salary_pk\\n    PRIMARY KEY (\"slugSeason,namePlayer\");\\n    \\n    ALTER TABLE \"Team\"\\n    ADD CONSTRAINT team_pk\\n    PRIMARY KEY (\"id\");\\n    \\n    ALTER TABLE \"Team_Attributes\"\\n    ADD CONSTRAINT team_attributes_pk\\n    PRIMARY KEY (\"ID\");\\n    \\n    ALTER TABLE \"Team_Salary\"\\n    ADD CONSTRAINT team_salary_pk\\n    PRIMARY KEY (\"nameTeam\");\\n    '"
      ]
     },
     "execution_count": 81,
     "metadata": {},
     "output_type": "execute_result"
    }
   ],
   "source": [
    "#x=\"\"\n",
    "#for i in range(len(table_pk)):\n",
    "#    qtext=f\"\"\"\n",
    "#    ALTER TABLE {new_dict[i][\"table_name\"]}\n",
    "#    ADD CONSTRAINT {new_dict[i][\"table_pk\"]}\n",
    "#    PRIMARY KEY ({new_dict[i][\"pk\"]});\n",
    "#    \"\"\"\n",
    "#    x=qtext+qtext\n",
    "#print(x)\n",
    "x"
   ]
  },
  {
   "cell_type": "code",
   "execution_count": 82,
   "id": "bd0af550",
   "metadata": {},
   "outputs": [
    {
     "ename": "UndefinedColumn",
     "evalue": "column \"idPlayer,yearDraft\" of relation \"Draft\" does not exist\n",
     "output_type": "error",
     "traceback": [
      "\u001b[1;31m---------------------------------------------------------------------------\u001b[0m",
      "\u001b[1;31mUndefinedColumn\u001b[0m                           Traceback (most recent call last)",
      "\u001b[1;32m~\\AppData\\Local\\Temp/ipykernel_28324/3593947953.py\u001b[0m in \u001b[0;36m<module>\u001b[1;34m\u001b[0m\n\u001b[1;32m----> 1\u001b[1;33m \u001b[0mcur\u001b[0m\u001b[1;33m.\u001b[0m\u001b[0mexecute\u001b[0m\u001b[1;33m(\u001b[0m\u001b[0mx\u001b[0m\u001b[1;33m)\u001b[0m\u001b[1;33m\u001b[0m\u001b[1;33m\u001b[0m\u001b[0m\n\u001b[0m\u001b[0;32m      2\u001b[0m \u001b[1;31m#conn.commit()\u001b[0m\u001b[1;33m\u001b[0m\u001b[1;33m\u001b[0m\u001b[0m\n",
      "\u001b[1;31mUndefinedColumn\u001b[0m: column \"idPlayer,yearDraft\" of relation \"Draft\" does not exist\n"
     ]
    }
   ],
   "source": [
    "cur.execute(x)\n",
    "#conn.commit()"
   ]
  },
  {
   "cell_type": "code",
   "execution_count": null,
   "id": "e491f496",
   "metadata": {},
   "outputs": [],
   "source": [
    "cur.close()\n",
    "conn.close()\n"
   ]
  }
 ],
 "metadata": {
  "kernelspec": {
   "display_name": "Python 3 (ipykernel)",
   "language": "python",
   "name": "python3"
  },
  "language_info": {
   "codemirror_mode": {
    "name": "ipython",
    "version": 3
   },
   "file_extension": ".py",
   "mimetype": "text/x-python",
   "name": "python",
   "nbconvert_exporter": "python",
   "pygments_lexer": "ipython3",
   "version": "3.9.7"
  }
 },
 "nbformat": 4,
 "nbformat_minor": 5
}
